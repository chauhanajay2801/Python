{
 "cells": [
  {
   "cell_type": "code",
   "execution_count": 40,
   "id": "d2a247fd",
   "metadata": {},
   "outputs": [],
   "source": [
    "class Account():\n",
    "    def __init__(self,name,balance):\n",
    "        self.name = name\n",
    "        self.balance =balance\n",
    "        \n",
    "    def withdraw(self,amount):\n",
    "        if amount<=self.balance:\n",
    "            self.balance = self.balance-amount\n",
    "            return (\"withdraw accepted\")\n",
    "        else:\n",
    "            print(\"Not enough funds\")\n",
    "    \n",
    "    def deposit(self,amount):\n",
    "        self.balance = self.balance+amount\n",
    "        return (\"deposit accepted\")\n",
    "    \n",
    "    def show(self):\n",
    "        return f\"name: {self.name},\\nBalance: {self.balance}\"\n",
    "    \n",
    "    "
   ]
  },
  {
   "cell_type": "code",
   "execution_count": 41,
   "id": "7151cd2c",
   "metadata": {},
   "outputs": [],
   "source": [
    "a = Account(\"Ajay\",1000)"
   ]
  },
  {
   "cell_type": "code",
   "execution_count": 42,
   "id": "e53a0957",
   "metadata": {},
   "outputs": [
    {
     "data": {
      "text/plain": [
       "'withdraw accepted'"
      ]
     },
     "execution_count": 42,
     "metadata": {},
     "output_type": "execute_result"
    }
   ],
   "source": [
    "a.withdraw(100)"
   ]
  },
  {
   "cell_type": "code",
   "execution_count": 43,
   "id": "13a1a09e",
   "metadata": {},
   "outputs": [
    {
     "name": "stdout",
     "output_type": "stream",
     "text": [
      "Not enough funds\n"
     ]
    }
   ],
   "source": [
    "a.withdraw(1000)"
   ]
  },
  {
   "cell_type": "code",
   "execution_count": 44,
   "id": "66c23d3d",
   "metadata": {},
   "outputs": [
    {
     "data": {
      "text/plain": [
       "<bound method Account.show of <__main__.Account object at 0x000001658EA35CF0>>"
      ]
     },
     "execution_count": 44,
     "metadata": {},
     "output_type": "execute_result"
    }
   ],
   "source": [
    "a.show"
   ]
  },
  {
   "cell_type": "code",
   "execution_count": null,
   "id": "cb9c49aa",
   "metadata": {},
   "outputs": [],
   "source": []
  },
  {
   "cell_type": "code",
   "execution_count": null,
   "id": "1797d4ba",
   "metadata": {},
   "outputs": [],
   "source": []
  },
  {
   "cell_type": "code",
   "execution_count": null,
   "id": "ea2752fd",
   "metadata": {},
   "outputs": [],
   "source": []
  }
 ],
 "metadata": {
  "kernelspec": {
   "display_name": "Python 3 (ipykernel)",
   "language": "python",
   "name": "python3"
  },
  "language_info": {
   "codemirror_mode": {
    "name": "ipython",
    "version": 3
   },
   "file_extension": ".py",
   "mimetype": "text/x-python",
   "name": "python",
   "nbconvert_exporter": "python",
   "pygments_lexer": "ipython3",
   "version": "3.10.7"
  }
 },
 "nbformat": 4,
 "nbformat_minor": 5
}
