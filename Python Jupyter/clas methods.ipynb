{
 "cells": [
  {
   "cell_type": "code",
   "execution_count": 24,
   "id": "58e3a689",
   "metadata": {},
   "outputs": [],
   "source": [
    "class Dog():\n",
    "    #class object attribute it is same for any instance of a class \n",
    "    #and there is no need of self  keyword\n",
    "    species = \"mammal\"\n",
    "    def __init__(self,breed,name):\n",
    "        #Attributes\n",
    "        #we take in arguments\n",
    "        #Assign it using self.attribute_name\n",
    "        self.breed = breed\n",
    "        self.name = name\n",
    "        \n",
    "        \n",
    "    #operations/actions----methods\n",
    "    def bark(self,number):\n",
    "        print(\"bete mere naam hai {} and the number is {} \".format(self.name,number))"
   ]
  },
  {
   "cell_type": "code",
   "execution_count": 25,
   "id": "9d0860b1",
   "metadata": {},
   "outputs": [],
   "source": [
    "mydog = Dog(\"Huski\",\"chomu\")"
   ]
  },
  {
   "cell_type": "code",
   "execution_count": 26,
   "id": "e8c112b1",
   "metadata": {},
   "outputs": [
    {
     "name": "stdout",
     "output_type": "stream",
     "text": [
      "bete mere naam hai chomu and the number is 10 \n"
     ]
    }
   ],
   "source": [
    "mydog.bark(10)"
   ]
  },
  {
   "cell_type": "code",
   "execution_count": null,
   "id": "785daf3d",
   "metadata": {},
   "outputs": [],
   "source": []
  },
  {
   "cell_type": "code",
   "execution_count": null,
   "id": "c550bffc",
   "metadata": {},
   "outputs": [],
   "source": []
  },
  {
   "cell_type": "code",
   "execution_count": null,
   "id": "3d121697",
   "metadata": {},
   "outputs": [],
   "source": []
  },
  {
   "cell_type": "code",
   "execution_count": null,
   "id": "5a806675",
   "metadata": {},
   "outputs": [],
   "source": []
  },
  {
   "cell_type": "code",
   "execution_count": null,
   "id": "153c6d6b",
   "metadata": {},
   "outputs": [],
   "source": []
  },
  {
   "cell_type": "code",
   "execution_count": 43,
   "id": "1d6a1a23",
   "metadata": {},
   "outputs": [],
   "source": [
    "class Circle():\n",
    "    pi = 3.14\n",
    "    \n",
    "    def __init__(self,radius=1):\n",
    "        self.radius=radius\n",
    "        self.area = radius*radius*Circle.pi\n",
    "        \n",
    "    #method\n",
    "    def get_circumference(self):\n",
    "        return self.radius*self.pi*2"
   ]
  },
  {
   "cell_type": "code",
   "execution_count": 44,
   "id": "dc15e77c",
   "metadata": {},
   "outputs": [],
   "source": [
    "my = Circle(10)"
   ]
  },
  {
   "cell_type": "code",
   "execution_count": 45,
   "id": "6b857906",
   "metadata": {},
   "outputs": [
    {
     "data": {
      "text/plain": [
       "3.14"
      ]
     },
     "execution_count": 45,
     "metadata": {},
     "output_type": "execute_result"
    }
   ],
   "source": [
    "my.pi"
   ]
  },
  {
   "cell_type": "code",
   "execution_count": 46,
   "id": "41cde84e",
   "metadata": {},
   "outputs": [
    {
     "data": {
      "text/plain": [
       "10"
      ]
     },
     "execution_count": 46,
     "metadata": {},
     "output_type": "execute_result"
    }
   ],
   "source": [
    "my.radius"
   ]
  },
  {
   "cell_type": "code",
   "execution_count": 47,
   "id": "4a5fe91b",
   "metadata": {},
   "outputs": [
    {
     "data": {
      "text/plain": [
       "62.800000000000004"
      ]
     },
     "execution_count": 47,
     "metadata": {},
     "output_type": "execute_result"
    }
   ],
   "source": [
    "my.get_circumference()"
   ]
  },
  {
   "cell_type": "code",
   "execution_count": 48,
   "id": "9e771381",
   "metadata": {},
   "outputs": [
    {
     "data": {
      "text/plain": [
       "314.0"
      ]
     },
     "execution_count": 48,
     "metadata": {},
     "output_type": "execute_result"
    }
   ],
   "source": [
    "my.area"
   ]
  },
  {
   "cell_type": "code",
   "execution_count": null,
   "id": "5bc686d0",
   "metadata": {},
   "outputs": [],
   "source": []
  },
  {
   "cell_type": "code",
   "execution_count": null,
   "id": "52fe5c0a",
   "metadata": {},
   "outputs": [],
   "source": []
  }
 ],
 "metadata": {
  "kernelspec": {
   "display_name": "Python 3 (ipykernel)",
   "language": "python",
   "name": "python3"
  },
  "language_info": {
   "codemirror_mode": {
    "name": "ipython",
    "version": 3
   },
   "file_extension": ".py",
   "mimetype": "text/x-python",
   "name": "python",
   "nbconvert_exporter": "python",
   "pygments_lexer": "ipython3",
   "version": "3.10.7"
  }
 },
 "nbformat": 4,
 "nbformat_minor": 5
}
