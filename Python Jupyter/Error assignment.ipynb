{
 "cells": [
  {
   "cell_type": "code",
   "execution_count": 2,
   "id": "14fa8397",
   "metadata": {},
   "outputs": [
    {
     "name": "stdout",
     "output_type": "stream",
     "text": [
      "This is a type error\n",
      "i will execute no matter how\n"
     ]
    }
   ],
   "source": [
    "try:\n",
    "    for i in ['a','b','c']:\n",
    "        print(i**2)\n",
    "except TypeError:\n",
    "    print(\"This is a type error\")\n",
    "finally:\n",
    "    print(\"i will execute no matter how\")"
   ]
  },
  {
   "cell_type": "code",
   "execution_count": null,
   "id": "b88b46c8",
   "metadata": {},
   "outputs": [],
   "source": []
  },
  {
   "cell_type": "code",
   "execution_count": 15,
   "id": "719a87fa",
   "metadata": {},
   "outputs": [],
   "source": [
    "def mul():\n",
    "    while True:\n",
    "        try:\n",
    "            x = int(input(\"enter the value of x :\"))\n",
    "            y = int(input(\"enter the value of y :\"))\n",
    "            z = x/y\n",
    "        except ZeroDivisionError:\n",
    "            print(\"you are dividing he number by zero\")\n",
    "            continue\n",
    "        else:\n",
    "            print(\"now you are doing it right\")\n",
    "            print(\"The value after division is: \", z)\n",
    "            break\n",
    "        finally:\n",
    "            print(\"mjhe to execute hona hi hai\")"
   ]
  },
  {
   "cell_type": "code",
   "execution_count": 16,
   "id": "c691def3",
   "metadata": {},
   "outputs": [
    {
     "name": "stdout",
     "output_type": "stream",
     "text": [
      "enter the value of x :4\n",
      "enter the value of y :0\n",
      "you are dividing he number by zero\n",
      "mjhe to execute hona hi hai\n",
      "enter the value of x :12\n",
      "enter the value of y :3\n",
      "now you are doing it right\n",
      "The value after division is:  4.0\n",
      "mjhe to execute hona hi hai\n"
     ]
    }
   ],
   "source": [
    "mul()"
   ]
  },
  {
   "cell_type": "code",
   "execution_count": null,
   "id": "7bf72c6a",
   "metadata": {},
   "outputs": [],
   "source": []
  },
  {
   "cell_type": "code",
   "execution_count": null,
   "id": "81891fdb",
   "metadata": {},
   "outputs": [],
   "source": []
  },
  {
   "cell_type": "code",
   "execution_count": 31,
   "id": "9bb08757",
   "metadata": {},
   "outputs": [],
   "source": [
    "def ask():\n",
    "    wait = True\n",
    "    while wait:\n",
    "        try:\n",
    "            x = int(input(\"enter the value of x :\"))\n",
    "            y = x**2\n",
    "        except :\n",
    "            print(\"not a correct value bro\")\n",
    "            continue\n",
    "        else:\n",
    "            print(\"you have done it right and the squre of the given value is :\", y)\n",
    "            wait = False\n",
    "        "
   ]
  },
  {
   "cell_type": "code",
   "execution_count": 33,
   "id": "0277325f",
   "metadata": {},
   "outputs": [
    {
     "name": "stdout",
     "output_type": "stream",
     "text": [
      "enter the value of x :k\n",
      "not a correct value bro\n",
      "enter the value of x :7\n",
      "you have done it right and the squre of the given value is : 49\n"
     ]
    }
   ],
   "source": [
    "ask()"
   ]
  },
  {
   "cell_type": "code",
   "execution_count": null,
   "id": "34a18cf6",
   "metadata": {},
   "outputs": [],
   "source": []
  },
  {
   "cell_type": "code",
   "execution_count": null,
   "id": "70b28047",
   "metadata": {},
   "outputs": [],
   "source": []
  }
 ],
 "metadata": {
  "kernelspec": {
   "display_name": "Python 3 (ipykernel)",
   "language": "python",
   "name": "python3"
  },
  "language_info": {
   "codemirror_mode": {
    "name": "ipython",
    "version": 3
   },
   "file_extension": ".py",
   "mimetype": "text/x-python",
   "name": "python",
   "nbconvert_exporter": "python",
   "pygments_lexer": "ipython3",
   "version": "3.10.7"
  }
 },
 "nbformat": 4,
 "nbformat_minor": 5
}
